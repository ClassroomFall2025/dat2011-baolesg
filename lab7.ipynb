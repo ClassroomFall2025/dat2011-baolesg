{
 "cells": [
  {
   "cell_type": "markdown",
   "id": "fdeff819",
   "metadata": {},
   "source": [
    "# Sinh Viên thực hiện Lab 7 ở Đây"
   ]
  },
  {
   "cell_type": "markdown",
   "id": "acc5d7dc",
   "metadata": {},
   "source": [
    "## Lab 7 - Bài 1"
   ]
  },
  {
   "cell_type": "code",
   "execution_count": 1,
   "id": "001e0507",
   "metadata": {},
   "outputs": [
    {
     "name": "stdout",
     "output_type": "stream",
     "text": [
      "Tự nguyện\n",
      "Trương Quốc Khánh\n",
      "Nếu là chim, tôi sẽ là loài bồ câu trắng\n",
      "Nếu là hoa, tôi sẽ là một đóa hướng dương\n",
      "Nếu là mây, tôi sẽ là một vầng mây ấm\n",
      "Là người, tôi sẽ chết cho quê hương.\n",
      "\n",
      "Là chim, tôi sẽ cất cao đôi cánh mềm\n",
      "Từ nam ra ngoài bắc báo tin nối liền\n",
      "Là hoa, tôi nở tình yêu ban sớm\n",
      "Cùng muôn trái tim ngất ngây hoà bình.\n",
      "\n",
      "Là mây, theo làn gió tung bay khắp trời\n",
      "Nghìn xưa oai hùng đó tôi xin tiếp lời\n",
      "Là người, xin một lần khi nằm xuống\n",
      "Nhìn anh em đứng lên phất cao ngọn cờ.\n",
      "Tên bài thơ: Tự nguyện\n",
      "Tên tác giả: Trương Quốc Khánh\n"
     ]
    },
    {
     "name": "stderr",
     "output_type": "stream",
     "text": [
      "<>:3: SyntaxWarning: invalid escape sequence '\\D'\n",
      "<>:3: SyntaxWarning: invalid escape sequence '\\D'\n",
      "C:\\Users\\DELL\\AppData\\Local\\Temp\\ipykernel_28712\\1533489157.py:3: SyntaxWarning: invalid escape sequence '\\D'\n",
      "  with open(\"d:\\DAT2011 du phong\\lab\\Lab\\DAT2011 - Lab 7 - Resource.txt\", encoding=\"utf-8\") as f:\n"
     ]
    }
   ],
   "source": [
    "# Code lab 7 bài 1 ở đây\n",
    "try:\n",
    "    with open(\"d:\\DAT2011 du phong\\lab\\Lab\\DAT2011 - Lab 7 - Resource.txt\", encoding=\"utf-8\") as f:\n",
    "        content = f.read()\n",
    "        print(content)\n",
    "\n",
    "        f.seek(0)  # Quay về đầu file để đọc lại\n",
    "        ten_bai_tho = f.readline()\n",
    "        print(\"Tên bài thơ:\", ten_bai_tho[:9]) # Lấy 9 ký tự đầu tiên của dòng đầu tiên\n",
    "\n",
    "        ten_tac_gia = f.readline()\n",
    "        print(\"Tên tác giả:\", ten_tac_gia.strip()) # Loại bỏ ký tự xuống dòng\n",
    "except FileNotFoundError:\n",
    "    print(\"File không tồn tại.\")\n"
   ]
  },
  {
   "cell_type": "markdown",
   "id": "c0835310",
   "metadata": {},
   "source": [
    "## Lab 7 - Bài 2"
   ]
  },
  {
   "cell_type": "code",
   "execution_count": 4,
   "id": "fa9cb39f",
   "metadata": {},
   "outputs": [
    {
     "name": "stdout",
     "output_type": "stream",
     "text": [
      "Đã ghi nội dung vào file Lab7-Exercise2.txt\n"
     ]
    }
   ],
   "source": [
    "# Code lab 7  bài 2 ở đây\n",
    "\n",
    "noi_dung = \"\"\"… \n",
    "Nếu một mai tôi có bay lên trời \n",
    "Thì người ơi tôi đã sống rất thảnh thơi \n",
    "Nếu một mai tôi có đi qua đời \n",
    "Thì người ơi tôi đã sống rất tuyệt vời \n",
    "…\"\"\"\n",
    "\n",
    "with open(\"Lab7-Exercise2.txt\", \"w\", encoding=\"utf-8\") as f:\n",
    "    f.write(noi_dung)\n",
    "\n",
    "print(\"Đã ghi nội dung vào file Lab7-Exercise2.txt\")"
   ]
  },
  {
   "cell_type": "markdown",
   "id": "0f2483fe",
   "metadata": {},
   "source": [
    "## Lab 7 - Bài 3"
   ]
  },
  {
   "cell_type": "code",
   "execution_count": null,
   "id": "920c17ed",
   "metadata": {},
   "outputs": [
    {
     "name": "stdout",
     "output_type": "stream",
     "text": [
      "\n",
      "--- Bài hát thứ 1 ---\n",
      "\n",
      "--- Bài hát thứ 2 ---\n",
      "\n",
      "Đã ghi 2 bài hát vào file 'baihat.csv' thành công!\n"
     ]
    }
   ],
   "source": [
    "# Code lab 7  bài 3 ở đây\n",
    "import os\n",
    "\n",
    "filename = input(\"Nhập tên file .csv: \")\n",
    "\n",
    "# Kiểm tra file có tồn tại không\n",
    "file_exists = os.path.exists(filename)\n",
    "\n",
    "# Mở file: nếu chưa có thì tạo mới ('w'), nếu có thì ghi thêm ('a')\n",
    "mode = \"a\" if file_exists else \"w\"\n",
    "\n",
    "with open(filename, mode, encoding=\"utf-8\") as f:\n",
    "    # Nếu file chưa tồn tại -> ghi tiêu đề (header)\n",
    "    if not file_exists:\n",
    "        f.write(\"Tiêu đề,Tác giả,Năm sáng tác\\n\")\n",
    "\n",
    "    # Nhập số lượng bài hát mới\n",
    "    n = int(input(\"Nhập số lượng bài hát cần ghi thêm: \"))\n",
    "\n",
    "    # Ghi từng bài hát vào file\n",
    "    for i in range(n):\n",
    "        print(f\"\\n--- Bài hát thứ {i+1} ---\")\n",
    "        tieude = input(\"Tiêu đề: \")\n",
    "        tacgia = input(\"Tác giả: \")\n",
    "        namsangtac = input(\"Năm sáng tác: \")\n",
    "\n",
    "        # Ghi một dòng CSV bằng f-string\n",
    "        line = f\"{tieude},{tacgia},{namsangtac}\\n\"\n",
    "        f.write(line)\n",
    "\n",
    "print(f\"\\nĐã ghi {n} bài hát vào file '{filename}' thành công!\")"
   ]
  },
  {
   "cell_type": "markdown",
   "id": "d36ea3d3",
   "metadata": {},
   "source": [
    "## Lab 7 - Bài 4"
   ]
  },
  {
   "cell_type": "code",
   "execution_count": null,
   "id": "4c707ec1",
   "metadata": {},
   "outputs": [
    {
     "name": "stdout",
     "output_type": "stream",
     "text": [
      "Đã ghi bài thơ ra file 'bai_tho.xml' thành công dưới dạng xml.\n"
     ]
    },
    {
     "name": "stderr",
     "output_type": "stream",
     "text": [
      "<>:2: SyntaxWarning: invalid escape sequence '\\D'\n",
      "<>:2: SyntaxWarning: invalid escape sequence '\\D'\n",
      "C:\\Users\\DELL\\AppData\\Local\\Temp\\ipykernel_13200\\2831446938.py:2: SyntaxWarning: invalid escape sequence '\\D'\n",
      "  input_file = \"d:\\DAT2011 du phong\\lab\\Lab\\DAT2011 - Lab 7 - Resource.txt\"\n"
     ]
    }
   ],
   "source": [
    "# code lab 7 bài 4 ở đây\n",
    "with open(\"Resource.txt\", \"r\", encoding=\"utf-8\") as f:\n",
    "    noi_dung = [line.strip() for line in f.readlines()]\n",
    "    print(noi_dung)\n",
    "    noi_dung_moi = []\n",
    "    kho_tho = []\n",
    "    for line in noi_dung[2:]:\n",
    "        if line == \"\":\n",
    "            noi_dung_moi.append(\" \".join(kho_tho))\n",
    "            kho_tho = []\n",
    "        else:\n",
    "            kho_tho.append(line)\n",
    "    noi_dung_moi.append(\" \".join(kho_tho))\n",
    "print(noi_dung_moi)\n",
    "\n",
    "with open(\"Resource.xml\", \"w\", encoding=\"utf-8\") as f:\n",
    "    f.write(\"<songs>\\n\")\n",
    "    f.write(\"  <song>\\n\")\n",
    "    f.write(f\"    <name>{noi_dung[0]}</name>\\n\")\n",
    "    f.write(f\"    <author>{noi_dung[1]}</author>\\n\")\n",
    "    for phan_tu in noi_dung_moi:\n",
    "        f.write(\"       <section>\" + phan_tu + \"</section>\\n\")\n",
    "    f.write(\"  </song>\\n\")\n",
    "    f.write(\"</songs>\\n\")"
   ]
  },
  {
   "cell_type": "markdown",
   "id": "e2b41d4a",
   "metadata": {},
   "source": [
    "## Lab 7 - Bài 5: bài tập làm thêm"
   ]
  },
  {
   "cell_type": "code",
   "execution_count": null,
   "id": "0e0172f7",
   "metadata": {},
   "outputs": [
    {
     "name": "stdout",
     "output_type": "stream",
     "text": [
      "['Tự nguyện', 'Trương Quốc Khánh', 'Nếu là chim, tôi sẽ là loài bồ câu trắng', 'Nếu là hoa, tôi sẽ là một đóa hướng dương', 'Nếu là mây, tôi sẽ là một vầng mây ấm', 'Là người, tôi sẽ chết cho quê hương.', '', 'Là chim, tôi sẽ cất cao đôi cánh mềm', 'Từ nam ra ngoài bắc báo tin nối liền', 'Là hoa, tôi nở tình yêu ban sớm', 'Cùng muôn trái tim ngất ngây hoà bình.', '', 'Là mây, theo làn gió tung bay khắp trời', 'Nghìn xưa oai hùng đó tôi xin tiếp lời', 'Là người, xin một lần khi nằm xuống', 'Nhìn anh em đứng lên phất cao ngọn cờ.']\n",
      "['Nếu là chim, tôi sẽ là loài bồ câu trắng Nếu là hoa, tôi sẽ là một đóa hướng dương Nếu là mây, tôi sẽ là một vầng mây ấm Là người, tôi sẽ chết cho quê hương.', 'Là chim, tôi sẽ cất cao đôi cánh mềm Từ nam ra ngoài bắc báo tin nối liền Là hoa, tôi nở tình yêu ban sớm Cùng muôn trái tim ngất ngây hoà bình.', 'Là mây, theo làn gió tung bay khắp trời Nghìn xưa oai hùng đó tôi xin tiếp lời Là người, xin một lần khi nằm xuống Nhìn anh em đứng lên phất cao ngọn cờ.']\n"
     ]
    }
   ],
   "source": [
    "# code lab 7  bài làm thêm ở đây \n",
    "\n",
    "\n"
   ]
  }
 ],
 "metadata": {
  "kernelspec": {
   "display_name": "Python 3",
   "language": "python",
   "name": "python3"
  },
  "language_info": {
   "codemirror_mode": {
    "name": "ipython",
    "version": 3
   },
   "file_extension": ".py",
   "mimetype": "text/x-python",
   "name": "python",
   "nbconvert_exporter": "python",
   "pygments_lexer": "ipython3",
   "version": "3.13.9"
  }
 },
 "nbformat": 4,
 "nbformat_minor": 5
}
