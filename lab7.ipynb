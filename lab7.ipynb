{
 "cells": [
  {
   "cell_type": "markdown",
   "id": "fdeff819",
   "metadata": {},
   "source": [
    "# Sinh Viên thực hiện Lab 7 ở Đây"
   ]
  },
  {
   "cell_type": "markdown",
   "id": "acc5d7dc",
   "metadata": {},
   "source": [
    "## Lab 7 - Bài 1"
   ]
  },
  {
   "cell_type": "code",
   "execution_count": 5,
   "id": "001e0507",
   "metadata": {},
   "outputs": [
    {
     "name": "stdout",
     "output_type": "stream",
     "text": [
      "Tự nguyện\n",
      "Trương Quốc Khánh\n",
      "Nếu là chim, tôi sẽ là loài bồ câu trắng\n",
      "Nếu là hoa, tôi sẽ là một đóa hướng dương\n",
      "Nếu là mây, tôi sẽ là một vầng mây ấm\n",
      "Là người, tôi sẽ chết cho quê hương.\n",
      "\n",
      "Là chim, tôi sẽ cất cao đôi cánh mềm\n",
      "Từ nam ra ngoài bắc báo tin nối liền\n",
      "Là hoa, tôi nở tình yêu ban sớm\n",
      "Cùng muôn trái tim ngất ngây hoà bình.\n",
      "\n",
      "Là mây, theo làn gió tung bay khắp trời\n",
      "Nghìn xưa oai hùng đó tôi xin tiếp lời\n",
      "Là người, xin một lần khi nằm xuống\n",
      "Nhìn anh em đứng lên phất cao ngọn cờ.\n",
      "Tên bài thơ: Tự nguyện\n",
      "Tên tác giả: Trương Quốc Khánh\n"
     ]
    },
    {
     "name": "stderr",
     "output_type": "stream",
     "text": [
      "<>:3: SyntaxWarning: invalid escape sequence '\\D'\n",
      "<>:3: SyntaxWarning: invalid escape sequence '\\D'\n",
      "C:\\Users\\DELL\\AppData\\Local\\Temp\\ipykernel_33616\\1533489157.py:3: SyntaxWarning: invalid escape sequence '\\D'\n",
      "  with open(\"d:\\DAT2011 du phong\\lab\\Lab\\DAT2011 - Lab 7 - Resource.txt\", encoding=\"utf-8\") as f:\n"
     ]
    }
   ],
   "source": [
    "# Code lab 7 bài 1 ở đây\n",
    "try:\n",
    "    with open(\"d:\\DAT2011 du phong\\lab\\Lab\\DAT2011 - Lab 7 - Resource.txt\", encoding=\"utf-8\") as f:\n",
    "        content = f.read()\n",
    "        print(content)\n",
    "\n",
    "        f.seek(0)  # Quay về đầu file để đọc lại\n",
    "        ten_bai_tho = f.readline()\n",
    "        print(\"Tên bài thơ:\", ten_bai_tho[:9]) # Lấy 9 ký tự đầu tiên của dòng đầu tiên\n",
    "\n",
    "        ten_tac_gia = f.readline()\n",
    "        print(\"Tên tác giả:\", ten_tac_gia.strip()) # Loại bỏ ký tự xuống dòng\n",
    "except FileNotFoundError:\n",
    "    print(\"File không tồn tại.\")\n"
   ]
  },
  {
   "cell_type": "markdown",
   "id": "c0835310",
   "metadata": {},
   "source": [
    "## Lab 7 - Bài 2"
   ]
  },
  {
   "cell_type": "code",
   "execution_count": 4,
   "id": "fa9cb39f",
   "metadata": {},
   "outputs": [
    {
     "name": "stdout",
     "output_type": "stream",
     "text": [
      "Đã ghi nội dung vào file Lab7-Exercise2.txt\n"
     ]
    }
   ],
   "source": [
    "# Code lab 7  bài 2 ở đây\n",
    "\n",
    "noi_dung = \"\"\"… \n",
    "Nếu một mai tôi có bay lên trời \n",
    "Thì người ơi tôi đã sống rất thảnh thơi \n",
    "Nếu một mai tôi có đi qua đời \n",
    "Thì người ơi tôi đã sống rất tuyệt vời \n",
    "…\"\"\"\n",
    "\n",
    "with open(\"Lab7-Exercise2.txt\", \"w\", encoding=\"utf-8\") as f:\n",
    "    f.write(noi_dung)\n",
    "\n",
    "print(\"Đã ghi nội dung vào file Lab7-Exercise2.txt\")"
   ]
  },
  {
   "cell_type": "markdown",
   "id": "0f2483fe",
   "metadata": {},
   "source": [
    "## Lab 7 - Bài 3"
   ]
  },
  {
   "cell_type": "code",
   "execution_count": null,
   "id": "7034990b",
   "metadata": {},
   "outputs": [
    {
     "name": "stdout",
     "output_type": "stream",
     "text": [
      "Nhập thông tin cho bài thơ thứ 1:\n",
      "Nhập thông tin cho bài thơ thứ 2:\n",
      "Nhập thông tin cho bài thơ thứ 3:\n",
      "Nhập thông tin cho bài thơ thứ 4:\n",
      "Nhập thông tin cho bài thơ thứ 5:\n",
      "Đã ghi thông tin vào file Lab7-Exercise3.csv\n"
     ]
    }
   ],
   "source": [
    "# Code lab 7  bài 3 ở đây\n",
    "import csv\n",
    "\n",
    "bai_tho_list = []\n",
    "for i in range(5):\n",
    "    print(f\"Nhập thông tin cho bài thơ thứ {i+1}:\")\n",
    "    tieu_de = input(\"Tiêu đề: \")\n",
    "    tac_gia = input(\"Tác giả: \")\n",
    "    nam_xuat_ban = input(\"Năm xuất bản: \")\n",
    "    bai_tho_list.append([tieu_de, tac_gia, nam_xuat_ban])\n",
    "\n",
    "with open(\"Lab7-Exercise3.csv\", \"w\", newline='', encoding=\"utf-8\") as f:\n",
    "    writer = csv.writer(f)\n",
    "    writer.writerow([\"Tiêu đề\", \"Tác giả\", \"Năm xuất bản\"])  # Ghi tiêu đề cột\n",
    "    writer.writerows(bai_tho_list)  # Ghi dữ liệu bài thơ\n",
    "print(\"Đã ghi thông tin vào file Lab7-Exercise3.csv\")"
   ]
  },
  {
   "cell_type": "markdown",
   "id": "d36ea3d3",
   "metadata": {},
   "source": [
    "## Lab 7 - Bài 4"
   ]
  },
  {
   "cell_type": "code",
   "execution_count": null,
   "id": "4c707ec1",
   "metadata": {},
   "outputs": [],
   "source": [
    "# code lab 7 bài 4 ở đây"
   ]
  },
  {
   "cell_type": "markdown",
   "id": "e2b41d4a",
   "metadata": {},
   "source": [
    "## Lab 7 - Bài 5: bài tập làm thêm"
   ]
  },
  {
   "cell_type": "code",
   "execution_count": null,
   "id": "0e0172f7",
   "metadata": {},
   "outputs": [],
   "source": [
    "# code lab 7  bài làm thêm ở đây "
   ]
  }
 ],
 "metadata": {
  "kernelspec": {
   "display_name": "Python 3",
   "language": "python",
   "name": "python3"
  },
  "language_info": {
   "codemirror_mode": {
    "name": "ipython",
    "version": 3
   },
   "file_extension": ".py",
   "mimetype": "text/x-python",
   "name": "python",
   "nbconvert_exporter": "python",
   "pygments_lexer": "ipython3",
   "version": "3.13.8"
  }
 },
 "nbformat": 4,
 "nbformat_minor": 5
}
