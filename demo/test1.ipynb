{
 "cells": [
  {
   "cell_type": "code",
   "execution_count": null,
   "id": "0ef2767c",
   "metadata": {},
   "outputs": [],
   "source": [
    "age = int(input(\"Nhập tuổi của bạn: \"))\n",
    "if age >= 18:\n",
    "    print(\"Bạn đã đủ tuổi trưởng thành.\")\n",
    "    print(\"Bạn có thể tham gia bau cử\")\n",
    "    print(\"được uống rựu bia\")\n",
    "else:\n",
    "    print(\"bạn không đủ tuổi uống rựu\")\n",
    "    print(\"bạn chưa đủ tuổi\")"
   ]
  },
  {
   "cell_type": "code",
   "execution_count": null,
   "id": "91b46d6c",
   "metadata": {},
   "outputs": [],
   "source": [
    "a = float(input(\"Nhập a: \"))\n",
    "b = float(input(\"Nhập b: \"))\n",
    "if a == 0 and b == 0:\n",
    "    print(\"Phương trình vô số nghiệm\")\n",
    "elif a == 0:\n",
    "    print(\"Phương trình vô nghiệm\")\n",
    "else:\n",
    "    x = -b / a\n",
    "    print(\"Phương trình có nghiệm x =\", x)\n",
    "\n",
    "# Giải phương trình bậc hai ax^2 + bx + c = 0\n",
    "import math\n",
    "a2 = float(input(\"Nhập a (bậc 2): \"))\n",
    "b2 = float(input(\"Nhập b (bậc 2): \"))\n",
    "c2 = float(input(\"Nhập c (bậc 2): \"))\n",
    "delta = b2**2 - 4*a2*c2\n",
    "if a2 == 0 and b2 == 0 and c2 == 0:\n",
    "    print(\"Phương trình vô số nghiệm\")\n",
    "elif a2 == 0 and b2 == 0:\n",
    "    print(\"Phương trình vô nghiệm\")\n",
    "elif delta < 0:\n",
    "    print(\"Phương trình vô nghiệm thực\")\n",
    "elif delta == 0:\n",
    "    x = -b2 / (2*a2)\n",
    "    print(\"Phương trình có nghiệm kép x =\", x)\n",
    "else:\n",
    "    x1 = (-b2 + math.sqrt(delta)) / (2*a2)\n",
    "    x2 = (-b2 - math.sqrt(delta)) / (2*a2)\n",
    "    print(\"Phương trình có hai nghiệm x1 =\", x1, \", x2 =\", x2)"
   ]
  },
  {
   "cell_type": "code",
   "execution_count": null,
   "id": "ef46e9bd",
   "metadata": {},
   "outputs": [],
   "source": [
    "number1 = float(input(\"nhập số 1: \"))\n",
    "number2 = float(input(\"nhập số 2: \"))\n",
    "operator = input(\"nhập phép toán (+,-,*,/):\")\n",
    "if operator == \"+\":\n",
    "    result = number1 + number2\n",
    "    print(f\"kết quả: {number1} + {number2} = {result}\")\n",
    "if operator == \"-\":\n",
    "    result = number1 - number2\n",
    "    print(f\"kết quả: {number1} - {number2} = {result}\")\n",
    "if operator == \"*\":\n",
    "    result = number1 * number2\n",
    "    print(f\"kết quả: {number1} * {number2} = {result}\")\n",
    "if operator == \"/\":\n",
    "    result = number1 / number2\n",
    "    print(f\"kết quả: {number1} / {number2} = {result}\")"
   ]
  },
  {
   "cell_type": "code",
   "execution_count": null,
   "id": "d1bd48b2",
   "metadata": {},
   "outputs": [],
   "source": [
    "import math\n",
    "a = float(input(\"nhap so a: \"))\n",
    "b = float(input(\"nhap so b: \"))\n",
    "c = float(input(\"nhap so c: \"))\n",
    "delta = b*b - 4*a*c\n",
    "if delta >=0:\n",
    "    bachai = math.sqrt(delta)\n",
    "    print(\"Căn bậc hai của delta là: \",bachai)\n",
    "else:\n",
    "    print(\"delta âm, không có căn bậc hai\")"
   ]
  },
  {
   "cell_type": "code",
   "execution_count": null,
   "id": "14d10ca5",
   "metadata": {},
   "outputs": [],
   "source": [
    "number1 = float(input(\"nhập số 1: \"))\n",
    "number2 = float(input(\"nhập số 2: \"))\n",
    "operator = input(\"nhập phép toán (+,-,*,/):\")\n",
    "if operator == \"+\":\n",
    "    result = number1 + number2\n",
    "    print(f\"tổng 2 số {number1} và {number2} = {result}\")\n",
    "elif operator == \"-\":\n",
    "        result = number1 - number2\n",
    "        print(f\"hiệu 2 số {number1} và {number2} = {result}\")\n",
    "elif operator == \"*\":\n",
    "      result = number1 * number2\n",
    "      print(f\"hiệu 2 số {number1} và {number2} = {result}\")\n",
    "elif operator == \"/\":\n",
    "      if number2 !=0:\n",
    "            result = number1/number2\n",
    "            print(f\"chia số {number1} / {number2}={result}\")\n",
    "      else:\n",
    "            print(\"phép chia không hợp lệ\")"
   ]
  },
  {
   "cell_type": "code",
   "execution_count": null,
   "id": "3f97a2d8",
   "metadata": {},
   "outputs": [],
   "source": [
    "so1 = float(input(\"nhập số 1: \"))\n",
    "so2 = float(input(\"nhập số 2: \"))\n",
    "if so1 > so2:\n",
    "    print(\"số lớn nhất: {so1}\")\n",
    "else:\n",
    "    print(\"Số lớn nhất: {so2}\")\n",
    "\n",
    "max2so = so1 if so1 > so2 else so2\n",
    "print(f\"số lớn nhất là: {max2so}\")"
   ]
  },
  {
   "cell_type": "code",
   "execution_count": 5,
   "id": "fc0549b3",
   "metadata": {},
   "outputs": [
    {
     "name": "stdout",
     "output_type": "stream",
     "text": [
      "bạn chọn 1\n",
      "chia số 1.0 / 2.0=0.5\n"
     ]
    }
   ],
   "source": [
    "import math\n",
    "\n",
    "\n",
    "lua_chon = input(\"chọn (1/2/3)\")\n",
    "match lua_chon:\n",
    "      case \"1\":\n",
    "            print(\"bạn chọn 1\")\n",
    "            if operator == \"+\":\n",
    "                result = number1 + number2\n",
    "                print(f\"tổng 2 số {number1} và {number2} = {result}\")\n",
    "            elif operator == \"-\":\n",
    "                  result = number1 - number2\n",
    "                  print(f\"hiệu 2 số {number1} và {number2} = {result}\")\n",
    "            elif operator == \"*\":\n",
    "                  result = number1 * number2\n",
    "                  print(f\"tích 2 số {number1} và {number2} = {result}\")\n",
    "            elif operator == \"/\":\n",
    "                  if number2 !=0:\n",
    "                        result = number1/number2\n",
    "                        print(f\"chia số {number1} / {number2}={result}\")\n",
    "                  else:\n",
    "                        print(\"phép chia không hợp lệ\")\n",
    "      case \"2\":\n",
    "            print(\"bạn chọn 2\")\n",
    "            print(\"Logarit:\", math.log(a, b))\n",
    "      case \"3\":        \n",
    "            print(\"bạn chọn 3\")\n",
    "      case _:\n",
    "            print(\"bạn chọn sai\")\n",
    "\n",
    "number1 = float(input(\"nhập số 1: \"))\n",
    "number2 = float(input(\"nhập số 2: \"))\n",
    "operator = input(\"nhập phép toán (+,-,*,/):\")\n",
    "a = float(input(\"Nhập số cần lấy logarit: \"))\n",
    "b = float(input(\"Nhập cơ số logarit: \"))"
   ]
  },
  {
   "cell_type": "code",
   "execution_count": null,
   "id": "6fa17ce6",
   "metadata": {},
   "outputs": [],
   "source": [
    "x = 0\n",
    "while x <= 0:\n",
    "    if x % 3 == 0:\n",
    "        x +=1\n",
    "        continue\n",
    "        print(x)        \n",
    "        x += 1"
   ]
  }
 ],
 "metadata": {
  "kernelspec": {
   "display_name": "Python 3",
   "language": "python",
   "name": "python3"
  },
  "language_info": {
   "codemirror_mode": {
    "name": "ipython",
    "version": 3
   },
   "file_extension": ".py",
   "mimetype": "text/x-python",
   "name": "python",
   "nbconvert_exporter": "python",
   "pygments_lexer": "ipython3",
   "version": "3.13.7"
  }
 },
 "nbformat": 4,
 "nbformat_minor": 5
}
