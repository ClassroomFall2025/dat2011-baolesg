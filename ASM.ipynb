{
 "cells": [
  {
   "cell_type": "code",
   "execution_count": 4,
   "id": "8c128154",
   "metadata": {},
   "outputs": [
    {
     "name": "stdout",
     "output_type": "stream",
     "text": [
      "========== MENU ==========\n",
      "1. Nhập danh sách nhân viên\n",
      "2. Đọc danh sách nhân viên từ file\n",
      "3. Tìm và hiển thị nhân viên theo mã\n",
      "4. Xóa nhân viên theo mã\n",
      "5. Cập nhật thông tin nhân viên theo mã\n",
      "6. Tìm nhân viên theo khoảng lương\n",
      "7. Sắp xếp nhân viên theo họ và tên\n",
      "8. Sắp xếp nhân viên theo thu nhập\n",
      "9. Xuất 5 nhân viên có thu nhập cao nhất\n",
      "0. Thoát chương trình\n",
      "==============================\n"
     ]
    },
    {
     "ename": "NameError",
     "evalue": "name 'doc_nhan_vien' is not defined",
     "output_type": "error",
     "traceback": [
      "\u001b[31m---------------------------------------------------------------------------\u001b[39m",
      "\u001b[31mNameError\u001b[39m                                 Traceback (most recent call last)",
      "\u001b[36mCell\u001b[39m\u001b[36m \u001b[39m\u001b[32mIn[4]\u001b[39m\u001b[32m, line 24\u001b[39m\n\u001b[32m     22\u001b[39m     nhap_nhan_vien()\n\u001b[32m     23\u001b[39m \u001b[38;5;28;01melif\u001b[39;00m lua_chon == \u001b[33m\"\u001b[39m\u001b[33m2\u001b[39m\u001b[33m\"\u001b[39m:\n\u001b[32m---> \u001b[39m\u001b[32m24\u001b[39m     \u001b[43mdoc_nhan_vien\u001b[49m()\n\u001b[32m     25\u001b[39m \u001b[38;5;28;01melif\u001b[39;00m lua_chon == \u001b[33m\"\u001b[39m\u001b[33m3\u001b[39m\u001b[33m\"\u001b[39m:\n\u001b[32m     26\u001b[39m     tim_nhan_vien_ma()\n",
      "\u001b[31mNameError\u001b[39m: name 'doc_nhan_vien' is not defined"
     ]
    }
   ],
   "source": [
    "import ASM\n",
    "menu = {\n",
    "    \"1\": \"Nhập danh sách nhân viên\",\n",
    "    \"2\": \"Đọc danh sách nhân viên từ file\",\n",
    "    \"3\": \"Tìm và hiển thị nhân viên theo mã\",\n",
    "    \"4\": \"Xóa nhân viên theo mã\",\n",
    "    \"5\": \"Cập nhật thông tin nhân viên theo mã\",\n",
    "    \"6\": \"Tìm nhân viên theo khoảng lương\",\n",
    "    \"7\": \"Sắp xếp nhân viên theo họ và tên\",\n",
    "    \"8\": \"Sắp xếp nhân viên theo thu nhập\",\n",
    "    \"9\": \"Xuất 5 nhân viên có thu nhập cao nhất\",\n",
    "    \"0\": \"Thoát chương trình\"\n",
    "}\n",
    "\n",
    "while True:\n",
    "    print(\"=\"*10 + \" MENU \" + \"=\"*10)\n",
    "    for k, v in menu.items():\n",
    "        print(f\"{k}. {v}\")\n",
    "    print(\"=\"*30)\n",
    "    lua_chon = input(\"Nhập chức năng: \")\n",
    "    if lua_chon == \"1\":\n",
    "        nhap_nhan_vien()\n",
    "    elif lua_chon == \"2\":\n",
    "        doc_nhan_vien()\n",
    "    elif lua_chon == \"3\":\n",
    "        tim_nhan_vien_ma()\n",
    "    elif lua_chon == \"4\":\n",
    "        xoa_nhan_vien_ma()\n",
    "    elif lua_chon == \"5\":\n",
    "        cap_nhat_nhan_vien_ma()\n",
    "    elif lua_chon == \"6\":\n",
    "        tim_nhan_vien_luong()\n",
    "    elif lua_chon == \"7\":\n",
    "        sap_xep_ho_ten()\n",
    "    elif lua_chon == \"8\":\n",
    "        sap_xep_thu_nhap()\n",
    "    elif lua_chon == \"9\":\n",
    "        top_5_thu_nhap()\n",
    "    elif lua_chon == \"0\":\n",
    "        thoat()\n",
    "        break\n",
    "    else:\n",
    "        print(\"Lựa chọn không hợp lệ, vui lòng chọn lại.\")"
   ]
  }
 ],
 "metadata": {
  "kernelspec": {
   "display_name": "Python 3",
   "language": "python",
   "name": "python3"
  },
  "language_info": {
   "codemirror_mode": {
    "name": "ipython",
    "version": 3
   },
   "file_extension": ".py",
   "mimetype": "text/x-python",
   "name": "python",
   "nbconvert_exporter": "python",
   "pygments_lexer": "ipython3",
   "version": "3.13.7"
  }
 },
 "nbformat": 4,
 "nbformat_minor": 5
}
