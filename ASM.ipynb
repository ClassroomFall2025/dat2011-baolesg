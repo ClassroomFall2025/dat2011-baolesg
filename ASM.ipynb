{
 "cells": [
  {
   "cell_type": "code",
   "execution_count": null,
   "id": "8c128154",
   "metadata": {},
   "outputs": [
    {
     "name": "stdout",
     "output_type": "stream",
     "text": [
      "========== MENU ==========\n",
      "1. Quản lý sinh viên\n",
      "2. Quản lý môn học\n",
      "3. Quản lý điểm\n",
      "4. Thoát chương trình\n",
      "==============================\n",
      "Chức năng 3: Quản lý điểm\n",
      "========== MENU ==========\n",
      "1. Quản lý sinh viên\n",
      "2. Quản lý môn học\n",
      "3. Quản lý điểm\n",
      "4. Thoát chương trình\n",
      "==============================\n",
      "Chức năng 4: Thoát chương trình\n"
     ]
    }
   ],
   "source": [
    "def chuc_nang_1():\n",
    "    print(\"Chức năng 1: Quản lý sinh viên\")\n",
    "\n",
    "def chuc_nang_2():\n",
    "    print(\"Chức năng 2: Quản lý môn học\")\n",
    "\n",
    "def chuc_nang_3():\n",
    "    print(\"Chức năng 3: Quản lý điểm\")\n",
    "\n",
    "def chuc_nang_4():\n",
    "    print(\"Chức năng 4: Thoát chương trình\")\n",
    "\n",
    "menu = {\n",
    "    \"1\": \"Quản lý sinh viên\",\n",
    "    \"2\": \"Quản lý môn học\",\n",
    "    \"3\": \"Quản lý điểm\",\n",
    "    \"4\": \"Thoát chương trình\"\n",
    "}\n",
    "\n",
    "while True:\n",
    "    print(\"=\"*10 + \" MENU \" + \"=\"*10)\n",
    "    for k, v in menu.items():\n",
    "        print(f\"{k}. {v}\")\n",
    "    print(\"=\"*30)\n",
    "    lua_chon = input(\"Nhập chức năng: \")\n",
    "    if lua_chon == \"1\":\n",
    "        chuc_nang_1()\n",
    "    elif lua_chon == \"2\":\n",
    "        chuc_nang_2()\n",
    "    elif lua_chon == \"3\":\n",
    "        chuc_nang_3()\n",
    "    elif lua_chon == \"4\":\n",
    "        chuc_nang_4()\n",
    "        break\n",
    "    else:\n",
    "        print(\"Lựa chọn không hợp lệ, vui lòng chọn lại.\")"
   ]
  }
 ],
 "metadata": {
  "kernelspec": {
   "display_name": "Python 3",
   "language": "python",
   "name": "python3"
  },
  "language_info": {
   "codemirror_mode": {
    "name": "ipython",
    "version": 3
   },
   "file_extension": ".py",
   "mimetype": "text/x-python",
   "name": "python",
   "nbconvert_exporter": "python",
   "pygments_lexer": "ipython3",
   "version": "3.13.7"
  }
 },
 "nbformat": 4,
 "nbformat_minor": 5
}
