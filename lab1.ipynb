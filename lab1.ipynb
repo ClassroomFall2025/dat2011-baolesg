{
 "cells": [
  {
   "cell_type": "markdown",
   "id": "fdeff819",
   "metadata": {},
   "source": [
    "# Sinh Viên thực hiện Lab 1 ở Đây"
   ]
  },
  {
   "cell_type": "markdown",
   "id": "acc5d7dc",
   "metadata": {},
   "source": [
    "## Lab 1 - Bài 1"
   ]
  },
  {
   "cell_type": "code",
   "execution_count": null,
   "id": "001e0507",
   "metadata": {},
   "outputs": [],
   "source": [
    "# Code lab 1 bài 1 ở đây\n",
    "print (\"Xinchao\")\n",
    "print (\"Toi ten Le Hoang Gia Bao\")\n",
    "print (\"Toi den tu Tp HCM\")"
   ]
  },
  {
   "cell_type": "markdown",
   "id": "c0835310",
   "metadata": {},
   "source": [
    "## Lab 1 - Bài 2"
   ]
  },
  {
   "cell_type": "code",
   "execution_count": null,
   "id": "fa9cb39f",
   "metadata": {},
   "outputs": [],
   "source": [
    "# Code lab 1  bài 2 ở đây\n",
    "a = input(\"chieu dai: \")\n",
    "b = input(\"chieu rong: \")\n",
    "dientichhcn = int(a) * int(b)\n",
    "print(\"Dien tich hcn la: \", dientichhcn)\n",
    "chuvihcn = (int(a) + int(b)) * 2\n",
    "print(\"Chu vi hcn la: \", chuvihcn)"
   ]
  },
  {
   "cell_type": "markdown",
   "id": "0f2483fe",
   "metadata": {},
   "source": [
    "## Lab 1 - Bài 3"
   ]
  },
  {
   "cell_type": "code",
   "execution_count": null,
   "id": "7034990b",
   "metadata": {},
   "outputs": [],
   "source": [
    "# Code lab 1  bài 3 ở đây\n",
    "s = (\"Sống\")\n",
    "print(\"...\")\n",
    "print(s,\"không giận, không hờn, không oán trách\")\n",
    "print(s,\"mỉm cười với thử thách chông gai\")\n",
    "print(s,\"vươn lên theo kịp ánh ban mai\")\n",
    "print(s,\"an hòa với mọi người chung sống.\")\n",
    "print()\n",
    "print(s,\"là động nhưng lòng luôn bất động\")\n",
    "print(s,\"là thương nhưng lòng chẳng vấn vương\")\n",
    "print(s,\"yên vui danh lợi mãi coi thường\")\n",
    "print(\"Tâm bất biến giữa dòng đời vạn biến\")\n",
    "print(\"...\")"
   ]
  },
  {
   "cell_type": "markdown",
   "id": "d36ea3d3",
   "metadata": {},
   "source": [
    "## Lab 1 - Bài 4"
   ]
  },
  {
   "cell_type": "code",
   "execution_count": null,
   "id": "4c707ec1",
   "metadata": {},
   "outputs": [],
   "source": [
    "# code lab 1 bài 4 ở đây\n",
    "import math\n",
    "print(\"nhap so a de tinh delta: \")\n",
    "a = float(input(\"nhap so a: \"))\n",
    "print(\"nhap so b de tinh delta: \")\n",
    "b = float(input(\"nhap so b: \"))\n",
    "print(\"nhap so c de tinh delta: \")\n",
    "c = float(input(\"nhap so c: \"))\n",
    "delta = b*b - 4*a*c\n",
    "sqrt_delta = math.sqrt(abs(delta))  \n",
    "print(\"Delta =\", delta)\n",
    "print(\"Căn bậc hai của |delta| là:\", sqrt_delta)"
   ]
  },
  {
   "cell_type": "markdown",
   "id": "e2b41d4a",
   "metadata": {},
   "source": [
    "## Lab 1 - Bài 5: bài tập làm thêm"
   ]
  },
  {
   "cell_type": "code",
   "execution_count": null,
   "id": "0e0172f7",
   "metadata": {},
   "outputs": [],
   "source": [
    "# code lab 1  bài làm thêm ở đây "
   ]
  }
 ],
 "metadata": {
  "kernelspec": {
   "display_name": "Python 3",
   "language": "python",
   "name": "python3"
  },
  "language_info": {
   "name": "python",
   "version": "3.13.7"
  }
 },
 "nbformat": 4,
 "nbformat_minor": 5
}
