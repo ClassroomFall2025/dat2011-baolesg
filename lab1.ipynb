{
 "cells": [
  {
   "cell_type": "markdown",
   "id": "fdeff819",
   "metadata": {},
   "source": [
    "# Sinh Viên thực hiện Lab 1 ở Đây"
   ]
  },
  {
   "cell_type": "markdown",
   "id": "acc5d7dc",
   "metadata": {},
   "source": [
    "## Lab 1 - Bài 1"
   ]
  },
  {
   "cell_type": "code",
   "execution_count": 1,
   "id": "001e0507",
   "metadata": {},
   "outputs": [
    {
     "name": "stdout",
     "output_type": "stream",
     "text": [
      "Xinchao\n",
      "Toi ten Le Hoang Gia Bao\n",
      "Toi den tu Tp HCM\n"
     ]
    }
   ],
   "source": [
    "# Code lab 1 bài 1 ở đây\n",
    "print (\"Xinchao\")\n",
    "print (\"Toi ten Le Hoang Gia Bao\")\n",
    "print (\"Toi den tu Tp HCM\")"
   ]
  },
  {
   "cell_type": "markdown",
   "id": "c0835310",
   "metadata": {},
   "source": [
    "## Lab 1 - Bài 2"
   ]
  },
  {
   "cell_type": "code",
   "execution_count": null,
   "id": "fa9cb39f",
   "metadata": {},
   "outputs": [],
   "source": [
    "# Code lab 1  bài 2 ở đây\n",
    "a = input(\"chieu dai: \")\n",
    "b = input(\"chieu rong: \")\n",
    "dientichhcn = int(a) * int(b)\n",
    "print(\"Dien tich hcn la: \", dientichhcn)\n",
    "chuvihcn = (int(a) + int(b)) * 2\n",
    "print(\"Chu vi hcn la: \", chuvihcn)"
   ]
  },
  {
   "cell_type": "markdown",
   "id": "0f2483fe",
   "metadata": {},
   "source": [
    "## Lab 1 - Bài 3"
   ]
  },
  {
   "cell_type": "code",
   "execution_count": 1,
   "id": "7034990b",
   "metadata": {},
   "outputs": [
    {
     "name": "stdout",
     "output_type": "stream",
     "text": [
      "...\n",
      "Sống không giận, không hờn, không oán trách\n",
      "Sống mỉm cười với thử thách chông gai\n",
      "Sống vươn lên theo kịp ánh ban mai\n",
      "Sống an hòa với mọi người chung sống.\n",
      "\n",
      "Sống là động nhưng lòng luôn bất động\n",
      "Sống là thương nhưng lòng chẳng vấn vương\n",
      "Sống yên vui danh lợi mãi coi thường\n",
      "Tâm bất biến giữa dòng đời vạn biến\n",
      "...\n"
     ]
    }
   ],
   "source": [
    "# Code lab 1  bài 3 ở đây\n",
    "s = (\"Sống\")\n",
    "print(\"...\")\n",
    "print(s,\"không giận, không hờn, không oán trách\")\n",
    "print(s,\"mỉm cười với thử thách chông gai\")\n",
    "print(s,\"vươn lên theo kịp ánh ban mai\")\n",
    "print(s,\"an hòa với mọi người chung sống.\")\n",
    "print()\n",
    "print(s,\"là động nhưng lòng luôn bất động\")\n",
    "print(s,\"là thương nhưng lòng chẳng vấn vương\")\n",
    "print(s,\"yên vui danh lợi mãi coi thường\")\n",
    "print(\"Tâm bất biến giữa dòng đời vạn biến\")\n",
    "print(\"...\")"
   ]
  },
  {
   "cell_type": "markdown",
   "id": "d36ea3d3",
   "metadata": {},
   "source": [
    "## Lab 1 - Bài 4"
   ]
  },
  {
   "cell_type": "code",
   "execution_count": null,
   "id": "4c707ec1",
   "metadata": {},
   "outputs": [
    {
     "name": "stdout",
     "output_type": "stream",
     "text": [
      "nhap so a de tinh delta: \n",
      "nhap so b de tinh delta: \n",
      "nhap so c de tinh delta: \n",
      "Delta = 28.0\n",
      "Căn bậc hai của |delta| là: 5.291502622129181\n"
     ]
    }
   ],
   "source": [
    "# code lab 1 bài 4 ở đây\n",
    "import math\n",
    "print(\"nhap so a de tinh delta: \")\n",
    "a = float(input(\"nhap so a: \"))\n",
    "print(\"nhap so b de tinh delta: \")\n",
    "b = float(input(\"nhap so b: \"))\n",
    "print(\"nhap so c de tinh delta: \")\n",
    "c = float(input(\"nhap so c: \"))\n",
    "delta = b*b - 4*a*c\n",
    "sqrt_delta = math.sqrt(abs(delta))  \n",
    "print(\"Delta =\", delta)\n",
    "print(\"Căn bậc hai của delta là:\", sqrt_delta)"
   ]
  },
  {
   "cell_type": "markdown",
   "id": "e2b41d4a",
   "metadata": {},
   "source": [
    "## Lab 1 - Bài 5: bài tập làm thêm"
   ]
  },
  {
   "cell_type": "code",
   "execution_count": 1,
   "id": "0e0172f7",
   "metadata": {},
   "outputs": [
    {
     "name": "stdout",
     "output_type": "stream",
     "text": [
      "Cộng: 8.0\n",
      "Trừ: 4.0\n",
      "Nhân: 12.0\n",
      "Chia: 3.0\n"
     ]
    }
   ],
   "source": [
    "# code lab 1  bài làm thêm ở đây \n",
    "import math\n",
    "a = float(input(\"Nhập số thứ nhất: \"))\n",
    "b = float(input(\"Nhập số thứ hai: \"))\n",
    "\n",
    "print(\"Cộng:\", a + b)\n",
    "print(\"Trừ:\", a - b)\n",
    "print(\"Nhân:\", a * b)\n",
    "messages = (\"Không thể chia cho 0\", a / b)\n",
    "print(\"Chia:\", messages[b != 0])"
   ]
  },
  {
   "cell_type": "code",
   "execution_count": null,
   "id": "8c8866ef",
   "metadata": {},
   "outputs": [
    {
     "name": "stdout",
     "output_type": "stream",
     "text": [
      "Lũy thừa: 1024.0\n"
     ]
    }
   ],
   "source": [
    "# tính lũy thừa\n",
    "a = float(input(\"Nhập cơ số: \"))\n",
    "b = float(input(\"Nhập số mũ: \"))\n",
    "\n",
    "print(\"Lũy thừa:\", a ** b)"
   ]
  },
  {
   "cell_type": "code",
   "execution_count": 3,
   "id": "b4e22b53",
   "metadata": {},
   "outputs": [
    {
     "name": "stdout",
     "output_type": "stream",
     "text": [
      "Sin: 1.0\n",
      "Cos: 6.123233995736766e-17\n",
      "Tan: 1.633123935319537e+16\n"
     ]
    }
   ],
   "source": [
    "# hàm lượng giác\n",
    "a = float(input(\"Nhập góc (độ): \"))\n",
    "radians = math.radians(a)   \n",
    "print(\"Sin:\", math.sin(radians))\n",
    "print(\"Cos:\", math.cos(radians))\n",
    "print(\"Tan:\", math.tan(radians))\n"
   ]
  },
  {
   "cell_type": "code",
   "execution_count": 4,
   "id": "db78d6b5",
   "metadata": {},
   "outputs": [
    {
     "name": "stdout",
     "output_type": "stream",
     "text": [
      "Logarit: 0.8613531161467861\n"
     ]
    }
   ],
   "source": [
    "# logarit \n",
    "import math\n",
    "a = float(input(\"Nhập số cần lấy logarit: \"))\n",
    "b = float(input(\"Nhập cơ số logarit: \"))\n",
    "\n",
    "print(\"Logarit:\", math.log(a, b))"
   ]
  }
 ],
 "metadata": {
  "kernelspec": {
   "display_name": "Python 3",
   "language": "python",
   "name": "python3"
  },
  "language_info": {
   "codemirror_mode": {
    "name": "ipython",
    "version": 3
   },
   "file_extension": ".py",
   "mimetype": "text/x-python",
   "name": "python",
   "nbconvert_exporter": "python",
   "pygments_lexer": "ipython3",
   "version": "3.13.7"
  }
 },
 "nbformat": 4,
 "nbformat_minor": 5
}
