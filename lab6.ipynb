{
 "cells": [
  {
   "cell_type": "markdown",
   "id": "fdeff819",
   "metadata": {},
   "source": [
    "# Sinh Viên thực hiện Lab 6 ở Đây"
   ]
  },
  {
   "cell_type": "markdown",
   "id": "acc5d7dc",
   "metadata": {},
   "source": [
    "## Lab 6 - Bài 1"
   ]
  },
  {
   "cell_type": "code",
   "execution_count": 5,
   "id": "001e0507",
   "metadata": {},
   "outputs": [
    {
     "name": "stdout",
     "output_type": "stream",
     "text": [
      "\n",
      "Hình chữ nhật thứ nhất:\n",
      "Chiều dài: 7.0\n",
      "Chiều rộng: 7.0\n",
      "Diện tích: 49.0\n",
      "Chu vi: 28.0\n",
      "\n",
      "Hình chữ nhật thứ hai:\n",
      "Chiều dài: 5.0\n",
      "Chiều rộng: 7.0\n",
      "Diện tích: 35.0\n",
      "Chu vi: 24.0\n",
      "\n",
      "Hình vuông:\n",
      "Cạnh: 4.0\n",
      "Diện tích: 16.0\n",
      "Chu vi: 16.0\n"
     ]
    }
   ],
   "source": [
    "# Code lab 6 bài 1 ở đây\n",
    "from hinh import *\n",
    "if __name__ == \"__main__\":\n",
    "    dai1 = float(input(\"Chiều dài: \"))\n",
    "    rong1 = float(input(\"Chiều rộng: \"))\n",
    "    cn1 = ChuNhat(dai1, rong1)\n",
    "\n",
    "    dai2 = float(input(\"Chiều dài: \"))\n",
    "    rong2 = float(input(\"Chiều rộng: \"))\n",
    "    cn2 = ChuNhat(dai2, rong2)\n",
    "\n",
    "    canh = float(input(\"Cạnh: \"))\n",
    "    vu = Vuong(canh)\n",
    "\n",
    "    print(\"\\nHình chữ nhật thứ nhất:\")\n",
    "    cn1.xuat()\n",
    "    print(\"\\nHình chữ nhật thứ hai:\")\n",
    "    cn2.xuat()\n",
    "    print(\"\\nHình vuông:\")\n",
    "    vu.xuat()"
   ]
  },
  {
   "cell_type": "markdown",
   "id": "c0835310",
   "metadata": {},
   "source": [
    "## Lab 6 - Bài 2"
   ]
  },
  {
   "cell_type": "code",
   "execution_count": null,
   "id": "fa9cb39f",
   "metadata": {},
   "outputs": [],
   "source": [
    "# Code lab 6  bài 2 ở đây\n"
   ]
  },
  {
   "cell_type": "markdown",
   "id": "0f2483fe",
   "metadata": {},
   "source": [
    "## Lab 6 - Bài 3"
   ]
  },
  {
   "cell_type": "code",
   "execution_count": null,
   "id": "7034990b",
   "metadata": {},
   "outputs": [],
   "source": [
    "# Code lab 6  bài 3 ở đây"
   ]
  },
  {
   "cell_type": "markdown",
   "id": "d36ea3d3",
   "metadata": {},
   "source": [
    "## Lab 6 - Bài 4"
   ]
  },
  {
   "cell_type": "code",
   "execution_count": 7,
   "id": "4c707ec1",
   "metadata": {},
   "outputs": [
    {
     "name": "stdout",
     "output_type": "stream",
     "text": [
      "==============MENU==============\n",
      "1. Nhập danh sách sinh viên\n",
      "2. Xuất thông tin danh sách sinh viên\n",
      "3. Xuất danh sách sinh viên có học lực giỏi\n",
      "4. Sắp xếp danh sách sinh viên theo điểm\n",
      "5. Kết thúc\n",
      "===============================\n",
      "Lựa chọn của bạn: \n",
      "Xuất thông tin danh sách sinh viên\n",
      "Danh sach sinh vien trong.\n",
      "==============MENU==============\n",
      "1. Nhập danh sách sinh viên\n",
      "2. Xuất thông tin danh sách sinh viên\n",
      "3. Xuất danh sách sinh viên có học lực giỏi\n",
      "4. Sắp xếp danh sách sinh viên theo điểm\n",
      "5. Kết thúc\n",
      "===============================\n",
      "Lựa chọn của bạn: \n",
      "Xuất thông tin danh sách sinh viên\n",
      "Danh sach sinh vien trong.\n",
      "==============MENU==============\n",
      "1. Nhập danh sách sinh viên\n",
      "2. Xuất thông tin danh sách sinh viên\n",
      "3. Xuất danh sách sinh viên có học lực giỏi\n",
      "4. Sắp xếp danh sách sinh viên theo điểm\n",
      "5. Kết thúc\n",
      "===============================\n",
      "Lựa chọn của bạn: \n",
      "Kết thúc\n"
     ]
    }
   ],
   "source": [
    "# code lab 6 bài 4 ở đây\n",
    "from quanlysinhvien import *\n",
    "ql = QuanlySinhVien()\n",
    "menu = {\n",
    "    \"1\" : \"Nhập danh sách sinh viên\",\n",
    "    \"2\" : \"Xuất thông tin danh sách sinh viên\",\n",
    "    \"3\" : \"Xuất danh sách sinh viên có học lực giỏi\",\n",
    "    \"4\" : \"Sắp xếp danh sách sinh viên theo điểm\",\n",
    "    \"5\" : \"Kết thúc\"\n",
    "}\n",
    "\n",
    "while True:\n",
    "    print(\"==\" * 7 + \"MENU\" + \"==\" * 7)\n",
    "    for k, v in menu.items():\n",
    "        print(f\"{k}. {v}\")\n",
    "    print(\"==\" * 7 + \"===\" +  \"==\" * 7)\n",
    "    print(\"Lựa chọn của bạn: \")\n",
    "    lua_chon = input(\"Nhập lựa chọn: \")\n",
    "    \n",
    "    match lua_chon:\n",
    "        case \"5\":\n",
    "            print(\"Kết thúc\")\n",
    "            break\n",
    "        case \"1\":\n",
    "            print(\"Nhập danh sách sinh viên\")\n",
    "            ql.nhap_danh_sach_sinh_vien()\n",
    "        case \"2\":\n",
    "            print(\"Xuất thông tin danh sách sinh viên\")\n",
    "            ql.xuat_danh_sach_sinh_vien()\n",
    "        case \"3\":\n",
    "            print(\"Xuất danh sách sinh viên có học lực giỏi\")\n",
    "        case \"4\":\n",
    "            print(\"Sắp xếp danh sách sinh viên theo điểm\")\n",
    "        case _:\n",
    "            print(\"Lựa chọn không hợp lệ\")\n",
    "   \n"
   ]
  },
  {
   "cell_type": "markdown",
   "id": "e2b41d4a",
   "metadata": {},
   "source": [
    "## Lab 6 - Bài 5: bài tập làm thêm"
   ]
  },
  {
   "cell_type": "code",
   "execution_count": null,
   "id": "0e0172f7",
   "metadata": {},
   "outputs": [],
   "source": [
    "# code lab 6  bài làm thêm ở đây "
   ]
  }
 ],
 "metadata": {
  "kernelspec": {
   "display_name": "Python 3",
   "language": "python",
   "name": "python3"
  },
  "language_info": {
   "codemirror_mode": {
    "name": "ipython",
    "version": 3
   },
   "file_extension": ".py",
   "mimetype": "text/x-python",
   "name": "python",
   "nbconvert_exporter": "python",
   "pygments_lexer": "ipython3",
   "version": "3.13.8"
  }
 },
 "nbformat": 4,
 "nbformat_minor": 5
}
