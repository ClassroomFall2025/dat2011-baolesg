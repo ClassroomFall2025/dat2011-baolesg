{
 "cells": [
  {
   "cell_type": "markdown",
   "id": "fdeff819",
   "metadata": {},
   "source": [
    "# Sinh Viên thực hiện Lab 3 ở Đây"
   ]
  },
  {
   "cell_type": "markdown",
   "id": "acc5d7dc",
   "metadata": {},
   "source": [
    "## Lab 3 - Bài 1"
   ]
  },
  {
   "cell_type": "code",
   "execution_count": 15,
   "id": "001e0507",
   "metadata": {},
   "outputs": [
    {
     "name": "stdout",
     "output_type": "stream",
     "text": [
      "thoát\n",
      "[1, 2, 3, 4, 5, 6]\n",
      "dãy số tăng dần: [1, 2, 3, 4, 5, 6]\n",
      "phần tử nhỏ nhất 1\n",
      "tong cac so chia het cho 3 trong day so 0\n",
      "co 0 chia het cho 3 trong day so\n",
      "tong cac so chia het cho 3 trong day so 0\n",
      "co 0 chia het cho 3 trong day so\n",
      "tong cac so chia het cho 3 trong day so 3\n",
      "co 1 chia het cho 3 trong day so\n",
      "tong cac so chia het cho 3 trong day so 3\n",
      "co 1 chia het cho 3 trong day so\n",
      "tong cac so chia het cho 3 trong day so 3\n",
      "co 1 chia het cho 3 trong day so\n",
      "tong cac so chia het cho 3 trong day so 9\n",
      "co 2 chia het cho 3 trong day so\n",
      "tbc 4.5\n",
      "[1, 2, 3, 4, 5, 6]\n",
      "[3, 6]\n",
      "dãy số giảm dần: [6, 5, 4, 3, 2, 1]\n"
     ]
    }
   ],
   "source": [
    "# Code lab 3 bài 1 ở đây\n",
    "day_so = [ ]\n",
    "tong = 0\n",
    "dem = 0\n",
    "day_so_chia3 = []\n",
    "while True:\n",
    "    so = input(\"nhập số: \")\n",
    "    if so == \"q\":\n",
    "        print(\"thoát\")\n",
    "        break\n",
    "    else:\n",
    "        try:\n",
    "            phan_tu = int(so)\n",
    "            day_so.append(phan_tu)\n",
    "        except ValueError:\n",
    "            print(\"Nhập đúng số hoặc q để thoát\")\n",
    "print(day_so)\n",
    "\n",
    "# sắp xếp số tăng dần\n",
    "day_so.sort()\n",
    "print(\"dãy số tăng dần:\", day_so)\n",
    "\n",
    "print(\"phần tử nhỏ nhất\",day_so[0] if day_so else \"không có số nào\")\n",
    "\n",
    "for phan_tu in day_so:\n",
    "    if phan_tu % 3 == 0:\n",
    "        tong = tong + phan_tu\n",
    "        dem = dem + 1 \n",
    "        day_so_chia3.append(phan_tu)\n",
    "    print(\"tong cac so chia het cho 3 trong day so\",tong)\n",
    "    print(f\"co {dem} chia het cho 3 trong day so\")\n",
    "if dem !=0:\n",
    "    print(\"tbc\", tong/dem)\n",
    "else:\n",
    "    print(\"khong co so nao chia het cho 3\")\n",
    "print(day_so)\n",
    "print(day_so_chia3)\n",
    "\n",
    "day_so.reverse()\n",
    "print(\"dãy số giảm dần:\", day_so)"
   ]
  },
  {
   "cell_type": "markdown",
   "id": "c0835310",
   "metadata": {},
   "source": [
    "## Lab 3 - Bài 2"
   ]
  },
  {
   "cell_type": "code",
   "execution_count": 37,
   "id": "fa9cb39f",
   "metadata": {},
   "outputs": [
    {
     "name": "stdout",
     "output_type": "stream",
     "text": [
      "Họ và tên: r\n",
      "Điểm: 6.0\n",
      "Xếp loại: Trung bình\n",
      "\n",
      "Danh sách sinh viên:\n",
      "Họ và tên: r, Điểm: 5.0, Xếp loại: Trung bình\n",
      "Họ và tên: t, Điểm: 7.0, Xếp loại: Khá\n"
     ]
    }
   ],
   "source": [
    "# Code lab 3  bài 2 ở đây\n",
    "sinh_vien = {}\n",
    "sinh_vien[\"họ và tên\"] = input(\"Nhập họ và tên: \")\n",
    "sinh_vien[\"điểm\"] = float(input(\"Nhập điểm: \"))\n",
    "print(\"Họ và tên:\", sinh_vien[\"họ và tên\"])\n",
    "print(\"Điểm:\", sinh_vien[\"điểm\"])\n",
    "diem = sinh_vien[\"điểm\"]\n",
    "if diem < 5:\n",
    "    print(\"Xếp loại: Yếu\")\n",
    "elif 5 <= diem < 7:\n",
    "    print(\"Xếp loại: Trung bình\")\n",
    "elif 7 <= diem < 8:\n",
    "    print(\"Xếp loại: Khá\")\n",
    "elif 8 <= diem < 9:\n",
    "    print(\"Xếp loại: Giỏi\")\n",
    "else:\n",
    "    print(\"Xếp loại: Xuất sắc\")\n",
    "\n",
    "# dùng list để lưu nhiều sinh viên\n",
    "list_sinh_vien = []\n",
    "so_luong = int(input(\"Nhập số lượng sinh viên: \"))\n",
    "for i in range(so_luong):\n",
    "    sv = {}\n",
    "    sv[\"họ và tên\"] = input(f\"Nhập họ và tên sinh viên {i+1}: \")\n",
    "    sv[\"điểm\"] = float(input(f\"Nhập điểm sinh viên {i+1}: \"))\n",
    "    diem = sv[\"điểm\"]\n",
    "    if diem < 5:\n",
    "        sv[\"xếp loại\"] = \"Yếu\"\n",
    "    elif diem < 7:\n",
    "        sv[\"xếp loại\"] = \"Trung bình\"\n",
    "    elif diem < 8:\n",
    "        sv[\"xếp loại\"] = \"Khá\"\n",
    "    elif diem < 9:\n",
    "        sv[\"xếp loại\"] = \"Giỏi\"\n",
    "    else:\n",
    "        sv[\"xếp loại\"] = \"Xuất sắc\"\n",
    "    list_sinh_vien.append(sv)\n",
    "\n",
    "print(\"\\nDanh sách sinh viên:\")\n",
    "for sv in list_sinh_vien:\n",
    "    print(f\"Họ và tên: {sv['họ và tên']}, Điểm: {sv['điểm']}, Xếp loại: {sv['xếp loại']}\")\n",
    "\n",
    "\n",
    "\n",
    "\n"
   ]
  },
  {
   "cell_type": "markdown",
   "id": "0f2483fe",
   "metadata": {},
   "source": [
    "## Lab 3 - Bài 3"
   ]
  },
  {
   "cell_type": "code",
   "execution_count": 40,
   "id": "7034990b",
   "metadata": {},
   "outputs": [
    {
     "name": "stdout",
     "output_type": "stream",
     "text": [
      "4 không phải là số nguyên tố\n"
     ]
    }
   ],
   "source": [
    "# Code lab 3  bài 3 ở đây\n",
    "n = int(input(\"Nhập số nguyên: \"))\n",
    "ok = True\n",
    "i = 2\n",
    "while i < (n-1):\n",
    "    if n % i == 0:\n",
    "        ok = False\n",
    "        break\n",
    "    i += 1\n",
    "if ok and n > 1:\n",
    "    print(n, \"là số nguyên tố\")\n",
    "else:\n",
    "    print(n, \"không phải là số nguyên tố\")\n",
    "\n"
   ]
  },
  {
   "cell_type": "markdown",
   "id": "d36ea3d3",
   "metadata": {},
   "source": [
    "## Lab 3 - Bài 4"
   ]
  },
  {
   "cell_type": "code",
   "execution_count": 55,
   "id": "4c707ec1",
   "metadata": {},
   "outputs": [
    {
     "name": "stdout",
     "output_type": "stream",
     "text": [
      "\n",
      "Bảng cửu chương 1:\n",
      "1 x 1 = 1\t1 x 2 = 2\t1 x 3 = 3\t1 x 4 = 4\t1 x 5 = 5\t1 x 6 = 6\t1 x 7 = 7\t1 x 8 = 8\t1 x 9 = 9\t\n",
      "Bảng cửu chương 2:\n",
      "2 x 1 = 2\t2 x 2 = 4\t2 x 3 = 6\t2 x 4 = 8\t2 x 5 = 10\t2 x 6 = 12\t2 x 7 = 14\t2 x 8 = 16\t2 x 9 = 18\t\n",
      "Bảng cửu chương 3:\n",
      "3 x 1 = 3\t3 x 2 = 6\t3 x 3 = 9\t3 x 4 = 12\t3 x 5 = 15\t3 x 6 = 18\t3 x 7 = 21\t3 x 8 = 24\t3 x 9 = 27\t\n",
      "Bảng cửu chương 4:\n",
      "4 x 1 = 4\t4 x 2 = 8\t4 x 3 = 12\t4 x 4 = 16\t4 x 5 = 20\t4 x 6 = 24\t4 x 7 = 28\t4 x 8 = 32\t4 x 9 = 36\t\n",
      "Bảng cửu chương 5:\n",
      "5 x 1 = 5\t5 x 2 = 10\t5 x 3 = 15\t5 x 4 = 20\t5 x 5 = 25\t5 x 6 = 30\t5 x 7 = 35\t5 x 8 = 40\t5 x 9 = 45\t\n",
      "Bảng cửu chương 6:\n",
      "6 x 1 = 6\t6 x 2 = 12\t6 x 3 = 18\t6 x 4 = 24\t6 x 5 = 30\t6 x 6 = 36\t6 x 7 = 42\t6 x 8 = 48\t6 x 9 = 54\t\n",
      "Bảng cửu chương 7:\n",
      "7 x 1 = 7\t7 x 2 = 14\t7 x 3 = 21\t7 x 4 = 28\t7 x 5 = 35\t7 x 6 = 42\t7 x 7 = 49\t7 x 8 = 56\t7 x 9 = 63\t\n",
      "Bảng cửu chương 8:\n",
      "8 x 1 = 8\t8 x 2 = 16\t8 x 3 = 24\t8 x 4 = 32\t8 x 5 = 40\t8 x 6 = 48\t8 x 7 = 56\t8 x 8 = 64\t8 x 9 = 72\t\n",
      "Bảng cửu chương 9:\n",
      "9 x 1 = 9\t9 x 2 = 18\t9 x 3 = 27\t9 x 4 = 36\t9 x 5 = 45\t9 x 6 = 54\t9 x 7 = 63\t9 x 8 = 72\t9 x 9 = 81\t"
     ]
    }
   ],
   "source": [
    "# code lab 3 bài 4 ở đây\n",
    "for i in range(1, 10):\n",
    "    print(f\"\\nBảng cửu chương {i}:\")\n",
    "    for j in range(1, 10):\n",
    "        print(\"%d x %d = %d\" % (i, j, i * j),end=\"\\t\") "
   ]
  },
  {
   "cell_type": "markdown",
   "id": "e2b41d4a",
   "metadata": {},
   "source": [
    "## Lab 3 - Bài 5: bài tập làm thêm"
   ]
  },
  {
   "cell_type": "code",
   "execution_count": 8,
   "id": "0e0172f7",
   "metadata": {},
   "outputs": [],
   "source": [
    "# code lab 3  bài làm thêm ở đây \n",
    "x = 0\n",
    "while x <= 0:\n",
    "    if x % 3 == 0:\n",
    "        x +=1\n",
    "        continue\n",
    "        print(x)        \n",
    "        x += 1"
   ]
  }
 ],
 "metadata": {
  "kernelspec": {
   "display_name": "Python 3",
   "language": "python",
   "name": "python3"
  },
  "language_info": {
   "codemirror_mode": {
    "name": "ipython",
    "version": 3
   },
   "file_extension": ".py",
   "mimetype": "text/x-python",
   "name": "python",
   "nbconvert_exporter": "python",
   "pygments_lexer": "ipython3",
   "version": "3.13.7"
  }
 },
 "nbformat": 4,
 "nbformat_minor": 5
}
