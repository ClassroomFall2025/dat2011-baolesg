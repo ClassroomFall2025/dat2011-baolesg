{
 "cells": [
  {
   "cell_type": "markdown",
   "id": "fdeff819",
   "metadata": {},
   "source": [
    "# Sinh Viên thực hiện Lab 4 ở Đây"
   ]
  },
  {
   "cell_type": "markdown",
   "id": "acc5d7dc",
   "metadata": {},
   "source": [
    "## Lab 1 - Bài 1"
   ]
  },
  {
   "cell_type": "code",
   "execution_count": null,
   "id": "001e0507",
   "metadata": {},
   "outputs": [
    {
     "name": "stdout",
     "output_type": "stream",
     "text": [
      "Tiền nước 12m3: 92600\n",
      "Tiền nước 23m3: 199000\n",
      "Tiền nước 34m3: 379000\n"
     ]
    }
   ],
   "source": [
    "# Code lab 4 bài 1 ở đây\n",
    "def tinh_tien_nuoc(so_nuoc):\n",
    "    gia_ban_nuoc = [7500, 8800, 12000, 24000]  \n",
    "    if so_nuoc <= 10 and so_nuoc >= 0:\n",
    "        tien_nuoc_thang = so_nuoc * gia_ban_nuoc[0]\n",
    "    elif so_nuoc <= 20:\n",
    "        tien_nuoc_thang = 10 * gia_ban_nuoc[0] + (so_nuoc - 10) * gia_ban_nuoc[1]\n",
    "    elif so_nuoc <= 30:\n",
    "        tien_nuoc_thang = 10 * gia_ban_nuoc[0] + 10 * gia_ban_nuoc[1] + (so_nuoc - 20) * gia_ban_nuoc[2]\n",
    "    else:\n",
    "        tien_nuoc_thang = 10 * gia_ban_nuoc[0] + 10 * gia_ban_nuoc[1] + 10 * gia_ban_nuoc[2] + (so_nuoc - 30) * gia_ban_nuoc[3]\n",
    "    return tien_nuoc_thang \n",
    "\n",
    "\n"
   ]
  },
  {
   "cell_type": "markdown",
   "id": "c0835310",
   "metadata": {},
   "source": [
    "## Lab 4 - Bài 2"
   ]
  },
  {
   "cell_type": "code",
   "execution_count": 8,
   "id": "fa9cb39f",
   "metadata": {},
   "outputs": [],
   "source": [
    "# Code lab 4  bài 2 ở đây\n",
    "def tinh_nguyen_lieu(sl_bdx, sl_btc, sl_bd):\n",
    "    banh_dau_xanh = {\"đường\":0.04,\"đậu\":0.07}\n",
    "    banh_thap_cam = {\"đường\":0.06,\"đậu\":0}\n",
    "    banh_deo = {\"đường\":0.05,\" đậu\":0.02}\n",
    "    nguyen_lieu ={}\n",
    "    tong_duong = sl_bdx * banh_dau_xanh[\"đường\"] + sl_btc * banh_thap_cam[\"đường\"] + sl_bd * banh_deo[\"đường\"]\n",
    "    tong_dau = sl_bdx * banh_dau_xanh[\"đậu\"] + sl_btc * banh_thap_cam[\"đậu\"] + sl_bd * banh_deo[\"đậu\"]\n",
    "    nguyen_lieu[\"đường\"] = tong_duong\n",
    "    nguyen_lieu[\"đậu\"] = tong_dau\n",
    "    return nguyen_lieu"
   ]
  },
  {
   "cell_type": "markdown",
   "id": "0f2483fe",
   "metadata": {},
   "source": [
    "## Lab 4 - Bài 3"
   ]
  },
  {
   "cell_type": "code",
   "execution_count": null,
   "id": "7034990b",
   "metadata": {},
   "outputs": [
    {
     "name": "stdout",
     "output_type": "stream",
     "text": [
      "Nhập các số nguyên (nhập 's' để kết thúc):\n",
      "danh sach ban dau:  [1, 2, 3, 4, 5, 6]\n",
      "danh sach sau khi loc:  [2, 4, 6]\n"
     ]
    }
   ],
   "source": [
    "# Code lab 4  bài 3 ở đây\n",
    "my_list = []\n",
    "print(\"Nhập các số nguyên: \")\n",
    "while True:\n",
    "    value = input()\n",
    "    if value.lower() == 's':\n",
    "        break\n",
    "    try: #kiểm tra nếu người dùng nhập không phải số nguyên thì báo lỗi\n",
    "        number = int(value) #chuyển chuỗi nhập vào thành số nguyên\n",
    "        my_list.append(number) #thêm số nguyên vào danh sách\n",
    "    except ValueError:\n",
    "        print(\"Vui lòng nhập một số nguyên hợp lệ hoặc 's' để kết thúc.\")\n",
    "new_list = list(filter(lambda x: x % 2 == 0, my_list))\n",
    "print(\"danh sach ban dau: \", my_list)\n",
    "print(\"danh sach sau khi loc: \", new_list)\n"
   ]
  },
  {
   "cell_type": "markdown",
   "id": "d36ea3d3",
   "metadata": {},
   "source": [
    "## Lab 4 - Bài 4"
   ]
  },
  {
   "cell_type": "code",
   "execution_count": 1,
   "id": "4c707ec1",
   "metadata": {},
   "outputs": [
    {
     "name": "stdout",
     "output_type": "stream",
     "text": [
      "====================Menu====================\n",
      "1. tinh tien nuoc\n",
      "2. tinh nguyen lieu lam banh\n",
      "3. thoat chuong trinh\n",
      "==========================================\n",
      "so tien nuoc phai tra trong la: 30000.0 VND\n",
      "====================Menu====================\n",
      "1. tinh tien nuoc\n",
      "2. tinh nguyen lieu lam banh\n",
      "3. thoat chuong trinh\n",
      "==========================================\n",
      "thoat chuong trinh\n"
     ]
    }
   ],
   "source": [
    "# code lab 4 bài 4 ở đây\n",
    "from lab4 import tinh_tien_nuoc, tinh_nguyen_lieu\n",
    "menu = {\n",
    "    \"1\": \"tinh tien nuoc\",  \n",
    "    \"2\": \"tinh nguyen lieu lam banh\",\n",
    "    \"3\": \"thoat chuong trinh\"\n",
    "}\n",
    "while True:\n",
    "    print(\"==\"*10 + \"Menu\" + \"==\"*10)\n",
    "    for k, v in menu.items():\n",
    "        print(f\"{k}. {v}\")\n",
    "    print(\"==\"*10 + \"==\" + \"==\"*10)\n",
    "    lua_chon = input(\"nhap chuc nang chuong trinh: \")\n",
    "    if lua_chon == \"1\":\n",
    "        so_nuoc = float(input(\"nhap so nuoc tieu thu: \"))\n",
    "        print(f\"so tien nuoc phai tra trong la: {tinh_tien_nuoc(so_nuoc)} VND\")\n",
    "    elif lua_chon == \"2\":\n",
    "        sl_bdx = int(input(\"nhap so luong banh dau xanh: \"))\n",
    "        sl_btc = int(input(\"nhap so luong banh thap cam: \"))\n",
    "        sl_bd = int(input(\"nhap so luong banh deo: \"))\n",
    "        nguyen_lieu = tinh_nguyen_lieu (sl_bdx, sl_btc, sl_bd)\n",
    "        print(f\"so luong duong can dung la: {nguyen_lieu['đường']} kg\")\n",
    "        print(f\"so luong dau can dung la: {nguyen_lieu['đậu']} kg\")\n",
    "    elif lua_chon == \"3\":\n",
    "        print(\"thoat chuong trinh\")\n",
    "        break\n",
    "    else:\n",
    "        print(\"lua chon khong hop le, vui long chon lai\")\n"
   ]
  },
  {
   "cell_type": "markdown",
   "id": "e2b41d4a",
   "metadata": {},
   "source": [
    "## Lab 4 - Bài 5: bài tập làm thêm"
   ]
  },
  {
   "cell_type": "code",
   "execution_count": null,
   "id": "0e0172f7",
   "metadata": {},
   "outputs": [
    {
     "ename": "ModuleNotFoundError",
     "evalue": "No module named 'lab4'",
     "output_type": "error",
     "traceback": [
      "\u001b[31m---------------------------------------------------------------------------\u001b[39m",
      "\u001b[31mModuleNotFoundError\u001b[39m                       Traceback (most recent call last)",
      "\u001b[36mCell\u001b[39m\u001b[36m \u001b[39m\u001b[32mIn[6]\u001b[39m\u001b[32m, line 2\u001b[39m\n\u001b[32m      1\u001b[39m \u001b[38;5;66;03m# code lab 4  bài làm thêm ở đây \u001b[39;00m\n\u001b[32m----> \u001b[39m\u001b[32m2\u001b[39m \u001b[38;5;28;01mimport\u001b[39;00m\u001b[38;5;250m \u001b[39m\u001b[34;01mlab4\u001b[39;00m\n\u001b[32m      3\u001b[39m \u001b[38;5;28mprint\u001b[39m(lab4.tinh_tien_nuoc(\u001b[32m35\u001b[39m))\n\u001b[32m      4\u001b[39m \u001b[38;5;28mprint\u001b[39m(lab4.tinh_nguyen_lieu(\u001b[32m10\u001b[39m, \u001b[32m5\u001b[39m, \u001b[32m8\u001b[39m))\n",
      "\u001b[31mModuleNotFoundError\u001b[39m: No module named 'lab4'"
     ]
    }
   ],
   "source": [
    "# code lab 4  bài làm thêm ở đây \n",
    "\n"
   ]
  }
 ],
 "metadata": {
  "kernelspec": {
   "display_name": "Python 3",
   "language": "python",
   "name": "python3"
  },
  "language_info": {
   "codemirror_mode": {
    "name": "ipython",
    "version": 3
   },
   "file_extension": ".py",
   "mimetype": "text/x-python",
   "name": "python",
   "nbconvert_exporter": "python",
   "pygments_lexer": "ipython3",
   "version": "3.13.8"
  }
 },
 "nbformat": 4,
 "nbformat_minor": 5
}
